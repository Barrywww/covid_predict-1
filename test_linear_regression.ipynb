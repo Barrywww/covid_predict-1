{
 "cells": [
  {
   "cell_type": "code",
   "execution_count": 131,
   "metadata": {},
   "outputs": [],
   "source": [
    "import os, sys\n",
    "import random \n",
    "import pandas as pd\n",
    "import numpy as np\n",
    "import matplotlib.pyplot as plt\n",
    "from sklearn import linear_model\n",
    "from sklearn.preprocessing import StandardScaler\n",
    "from sklearn.model_selection import train_test_split\n",
    "from sklearn.metrics import mean_squared_error, r2_score\n",
    "%matplotlib inline"
   ]
  },
  {
   "cell_type": "code",
   "execution_count": 132,
   "metadata": {},
   "outputs": [],
   "source": [
    "# load all the .csv files within one folder\n",
    "# return -> dict: {key=csv filename, value=pd.DataFrame}\n",
    "def load_all_files(path):\n",
    "    d = {}\n",
    "    for root, dirs, files in os.walk(path):\n",
    "        for file in files:\n",
    "            d[file.split(\".\")[0]] = pd.read_csv(os.path.join(root, file), index_col=0)\n",
    "    return d"
   ]
  },
  {
   "cell_type": "code",
   "execution_count": 133,
   "metadata": {},
   "outputs": [],
   "source": [
    "data_dict = load_all_files(\"./preprocessed_data_Barry\")"
   ]
  },
  {
   "cell_type": "code",
   "execution_count": 134,
   "metadata": {},
   "outputs": [
    {
     "data": {
      "text/plain": [
       "dict_keys(['C1_School_closing', 'C2_Workplace_closing', 'C3_Cancel_public_events', 'C4_Restrictions_on_gatherings', 'C5_Close_public_transport', 'C6_Stay_at_home_requirements', 'C7_Restrictions_on_internal_movement', 'C8_International_travel_controls', 'ConfirmedCases', 'ConfirmedDeaths', 'E1_Income_support', 'E2_Debt_contract_relief', 'E3_Fiscal_measures', 'E4_International_support', 'H1_Public_information_campaigns', 'H2_Testing_policy', 'H3_Contact_tracing', 'H4_Emergency_investment_in_healthcare', 'H5_Investment_in_vaccines', 'H6_Facial_Coverings', 'I_ContainmentHealthIndex', 'I_GovernmentResponseIndex', 'I_StringencyIndex', 'I_StringencyLegacyIndex'])"
      ]
     },
     "execution_count": 134,
     "metadata": {},
     "output_type": "execute_result"
    }
   ],
   "source": [
    "data_dict.keys()"
   ]
  },
  {
   "cell_type": "code",
   "execution_count": 145,
   "metadata": {},
   "outputs": [],
   "source": [
    "# select features & country data to be included into the model\n",
    "selected_features = ['C1_School_closing', 'C2_Workplace_closing', 'C3_Cancel_public_events', 'C4_Restrictions_on_gatherings',\n",
    "                     'C5_Close_public_transport', 'C6_Stay_at_home_requirements', 'C7_Restrictions_on_internal_movement', \n",
    "                     'C8_International_travel_controls', 'E1_Income_support', 'E2_Debt_contract_relief', \n",
    "                     'E3_Fiscal_measures', 'E4_International_support', 'H1_Public_information_campaigns', 'H2_Testing_policy', 'H3_Contact_tracing',\n",
    "                     'H4_Emergency_investment_in_healthcare', 'H5_Investment_in_vaccines', 'H6_Facial_Coverings', 'I_ContainmentHealthIndex', \n",
    "                     'I_GovernmentResponseIndex', 'I_StringencyIndex', 'ConfirmedCases']\n",
    "selected_country = [\"ITA\", \"JPN\", \"USA\"]"
   ]
  },
  {
   "cell_type": "code",
   "execution_count": 136,
   "metadata": {},
   "outputs": [],
   "source": [
    "# create a date * feature sample dataframe\n",
    "dates = data_dict[\"ConfirmedCases\"].columns[1:]\n",
    "sample_df = pd.DataFrame(columns=selected_features, index=dates, dtype=float)"
   ]
  },
  {
   "cell_type": "code",
   "execution_count": 137,
   "metadata": {},
   "outputs": [],
   "source": [
    "# sample_df"
   ]
  },
  {
   "cell_type": "code",
   "execution_count": 147,
   "metadata": {},
   "outputs": [],
   "source": [
    "def do_regression(country, concat_df, scale=True):\n",
    "    # insert corresponding feature data from dataframes\n",
    "    for feature in selected_features:\n",
    "        concat_df[feature] = data_dict[feature].loc[country]\n",
    "            \n",
    "     # clear out invalid tail data       \n",
    "    concat_df = concat_df.iloc[:-10,:].copy()\n",
    "    \n",
    "    # insert \"YesterdayConfirmed\" feature\n",
    "    concat_df = insert_yesterday(concat_df).copy()\n",
    "    \n",
    "    # replace NaN with 0\n",
    "    concat_df = concat_df.fillna(0)\n",
    "    \n",
    "    # create train&test data\n",
    "    X = np.array(concat_df[selected_features[:-1]+ [\"YesterdayConfirmed\"]])\n",
    "    y = np.array(concat_df[selected_features[-1]]).reshape(-1,1)\n",
    "    X_train, X_test, y_train, y_test = train_test_split(X, y, test_size=0.2, shuffle=False)\n",
    "    # X_train, X_val, y_train, y_val = train_test_split(X_train, y_train, test_size=0.2, shuffle=False)\n",
    "    \n",
    "    # whether to scale the data, True by default\n",
    "    if scale:\n",
    "        scaler_x = StandardScaler()\n",
    "        X_train = scaler_x.fit_transform(X_train)\n",
    "        X_test  = scaler_x.transform(X_test)\n",
    "        X_train = np.hstack((np.ones(X_train.shape[0]).reshape(-1,1), X_train))\n",
    "        X_test = np.hstack((np.ones(X_test.shape[0]).reshape(-1,1), X_test))\n",
    "\n",
    "        scaler_y = StandardScaler()\n",
    "        y_train = scaler_y.fit_transform(y_train)\n",
    "        y_test  = scaler_y.transform(y_test)\n",
    "    \n",
    "    # create linear regression model & train\n",
    "    regr = linear_model.LinearRegression(normalize=True)\n",
    "    regr.fit(X_train, y_train)\n",
    "    y_pred = regr.predict(X_test)\n",
    "    \n",
    "    # print out statistical data\n",
    "    print(\"--------------------------------------------------\")\n",
    "    print(\"Country:\", country)\n",
    "    print('Coefficients: \\n')\n",
    "    for i in range(0, len(regr.coef_[0]) -1):\n",
    "        print(\"Feature: %s\" % selected_features[i])\n",
    "        print(\"Weight: %.6f\" % regr.coef_[0][i + 1])\n",
    "        print()\n",
    "    print('Mean squared error: %.2f' % mean_squared_error(y_test, y_pred))\n",
    "    print('Coefficient of determination: %.2f' % r2_score(y_test, y_pred))\n",
    "    \n",
    "    plt.semilogy(y_pred, label = \"y_pred\");\n",
    "    plt.semilogy(y_test, label = \"y_test\");\n",
    "\n",
    "    plt.show()"
   ]
  },
  {
   "cell_type": "code",
   "execution_count": 139,
   "metadata": {},
   "outputs": [],
   "source": [
    "def insert_yesterday(df):\n",
    "    yesterday = [0]\n",
    "    yesterday.extend(list(df[\"ConfirmedCases\"]))\n",
    "    df[\"YesterdayConfirmed\"] =yesterday[:-1]\n",
    "    return df"
   ]
  },
  {
   "cell_type": "code",
   "execution_count": 148,
   "metadata": {},
   "outputs": [
    {
     "name": "stdout",
     "output_type": "stream",
     "text": [
      "--------------------------------------------------\n",
      "Country: ITA\n",
      "Coefficients: \n",
      "\n",
      "Feature: C1_School_closing\n",
      "Weight: -0.017695\n",
      "\n",
      "Feature: C2_Workplace_closing\n",
      "Weight: -0.004668\n",
      "\n",
      "Feature: C3_Cancel_public_events\n",
      "Weight: 0.004202\n",
      "\n",
      "Feature: C4_Restrictions_on_gatherings\n",
      "Weight: -0.007034\n",
      "\n",
      "Feature: C5_Close_public_transport\n",
      "Weight: -0.006408\n",
      "\n",
      "Feature: C6_Stay_at_home_requirements\n",
      "Weight: -0.012474\n",
      "\n",
      "Feature: C7_Restrictions_on_internal_movement\n",
      "Weight: -0.010154\n",
      "\n",
      "Feature: C8_International_travel_controls\n",
      "Weight: -0.005342\n",
      "\n",
      "Feature: E1_Income_support\n",
      "Weight: 0.008602\n",
      "\n",
      "Feature: E2_Debt_contract_relief\n",
      "Weight: -0.017241\n",
      "\n",
      "Feature: E3_Fiscal_measures\n",
      "Weight: 0.000438\n",
      "\n",
      "Feature: E4_International_support\n",
      "Weight: 0.000000\n",
      "\n",
      "Feature: H1_Public_information_campaigns\n",
      "Weight: -0.017312\n",
      "\n",
      "Feature: H2_Testing_policy\n",
      "Weight: -0.018706\n",
      "\n",
      "Feature: H3_Contact_tracing\n",
      "Weight: -0.017312\n",
      "\n",
      "Feature: H4_Emergency_investment_in_healthcare\n",
      "Weight: 0.000429\n",
      "\n",
      "Feature: H5_Investment_in_vaccines\n",
      "Weight: 0.000168\n",
      "\n",
      "Feature: H6_Facial_Coverings\n",
      "Weight: -0.038683\n",
      "\n",
      "Feature: I_ContainmentHealthIndex\n",
      "Weight: 0.121004\n",
      "\n",
      "Feature: I_GovernmentResponseIndex\n",
      "Weight: 0.151766\n",
      "\n",
      "Feature: I_StringencyIndex\n",
      "Weight: -0.143842\n",
      "\n",
      "Feature: ConfirmedCases\n",
      "Weight: 0.976574\n",
      "\n",
      "Mean squared error: 0.08\n",
      "Coefficient of determination: 0.99\n"
     ]
    },
    {
     "data": {
      "image/png": "[encoded data removed]",
      "text/plain": [
       "<Figure size 432x288 with 1 Axes>"
      ]
     },
     "metadata": {
      "needs_background": "light"
     },
     "output_type": "display_data"
    },
    {
     "name": "stdout",
     "output_type": "stream",
     "text": [
      "--------------------------------------------------\n",
      "Country: JPN\n",
      "Coefficients: \n",
      "\n",
      "Feature: C1_School_closing\n",
      "Weight: -0.002106\n",
      "\n",
      "Feature: C2_Workplace_closing\n",
      "Weight: 0.005841\n",
      "\n",
      "Feature: C3_Cancel_public_events\n",
      "Weight: 0.001797\n",
      "\n",
      "Feature: C4_Restrictions_on_gatherings\n",
      "Weight: 0.000000\n",
      "\n",
      "Feature: C5_Close_public_transport\n",
      "Weight: -0.000000\n",
      "\n",
      "Feature: C6_Stay_at_home_requirements\n",
      "Weight: 0.010987\n",
      "\n",
      "Feature: C7_Restrictions_on_internal_movement\n",
      "Weight: 0.001839\n",
      "\n",
      "Feature: C8_International_travel_controls\n",
      "Weight: 0.002372\n",
      "\n",
      "Feature: E1_Income_support\n",
      "Weight: -1.117598\n",
      "\n",
      "Feature: E2_Debt_contract_relief\n",
      "Weight: -2.044379\n",
      "\n",
      "Feature: E3_Fiscal_measures\n",
      "Weight: -0.001021\n",
      "\n",
      "Feature: E4_International_support\n",
      "Weight: 0.000421\n",
      "\n",
      "Feature: H1_Public_information_campaigns\n",
      "Weight: 0.003679\n",
      "\n",
      "Feature: H2_Testing_policy\n",
      "Weight: -1.302669\n",
      "\n",
      "Feature: H3_Contact_tracing\n",
      "Weight: -0.767226\n",
      "\n",
      "Feature: H4_Emergency_investment_in_healthcare\n",
      "Weight: 0.000373\n",
      "\n",
      "Feature: H5_Investment_in_vaccines\n",
      "Weight: 0.000177\n",
      "\n",
      "Feature: H6_Facial_Coverings\n",
      "Weight: -0.727519\n",
      "\n",
      "Feature: I_ContainmentHealthIndex\n",
      "Weight: 3.414900\n",
      "\n",
      "Feature: I_GovernmentResponseIndex\n",
      "Weight: 8.497926\n",
      "\n",
      "Feature: I_StringencyIndex\n",
      "Weight: -8.275565\n",
      "\n",
      "Feature: ConfirmedCases\n",
      "Weight: 0.983990\n",
      "\n",
      "Mean squared error: 0.00\n",
      "Coefficient of determination: 1.00\n"
     ]
    },
    {
     "data": {
      "image/png": "[encoded data removed]",
      "text/plain": [
       "<Figure size 432x288 with 1 Axes>"
      ]
     },
     "metadata": {
      "needs_background": "light"
     },
     "output_type": "display_data"
    },
    {
     "name": "stdout",
     "output_type": "stream",
     "text": [
      "--------------------------------------------------\n",
      "Country: USA\n",
      "Coefficients: \n",
      "\n",
      "Feature: C1_School_closing\n",
      "Weight: 0.009378\n",
      "\n",
      "Feature: C2_Workplace_closing\n",
      "Weight: -0.003067\n",
      "\n",
      "Feature: C3_Cancel_public_events\n",
      "Weight: 0.005594\n",
      "\n",
      "Feature: C4_Restrictions_on_gatherings\n",
      "Weight: 0.016157\n",
      "\n",
      "Feature: C5_Close_public_transport\n",
      "Weight: 0.004601\n",
      "\n",
      "Feature: C6_Stay_at_home_requirements\n",
      "Weight: -0.002193\n",
      "\n",
      "Feature: C7_Restrictions_on_internal_movement\n",
      "Weight: 0.024124\n",
      "\n",
      "Feature: C8_International_travel_controls\n",
      "Weight: 0.006421\n",
      "\n",
      "Feature: E1_Income_support\n",
      "Weight: 0.256359\n",
      "\n",
      "Feature: E2_Debt_contract_relief\n",
      "Weight: 0.256359\n",
      "\n",
      "Feature: E3_Fiscal_measures\n",
      "Weight: 0.001229\n",
      "\n",
      "Feature: E4_International_support\n",
      "Weight: -0.000005\n",
      "\n",
      "Feature: H1_Public_information_campaigns\n",
      "Weight: 0.013347\n",
      "\n",
      "Feature: H2_Testing_policy\n",
      "Weight: -0.039555\n",
      "\n",
      "Feature: H3_Contact_tracing\n",
      "Weight: -0.012018\n",
      "\n",
      "Feature: H4_Emergency_investment_in_healthcare\n",
      "Weight: -0.001138\n",
      "\n",
      "Feature: H5_Investment_in_vaccines\n",
      "Weight: 0.000309\n",
      "\n",
      "Feature: H6_Facial_Coverings\n",
      "Weight: -0.026809\n",
      "\n",
      "Feature: I_ContainmentHealthIndex\n",
      "Weight: 3.267012\n",
      "\n",
      "Feature: I_GovernmentResponseIndex\n",
      "Weight: -3.430560\n",
      "\n",
      "Feature: I_StringencyIndex\n",
      "Weight: -0.301682\n",
      "\n",
      "Feature: ConfirmedCases\n",
      "Weight: 0.985267\n",
      "\n",
      "Mean squared error: 0.00\n",
      "Coefficient of determination: 1.00\n"
     ]
    },
    {
     "data": {
      "image/png": "[encoded data removed]",
      "text/plain": [
       "<Figure size 432x288 with 1 Axes>"
      ]
     },
     "metadata": {
      "needs_background": "light"
     },
     "output_type": "display_data"
    }
   ],
   "source": [
    "for country in selected_country:\n",
    "    do_regression(country, sample_df)"
   ]
  },
  {
   "cell_type": "code",
   "execution_count": null,
   "metadata": {},
   "outputs": [],
   "source": []
  }
 ],
 "metadata": {
  "kernelspec": {
   "display_name": "Python 3",
   "language": "python",
   "name": "python3"
  },
  "language_info": {
   "codemirror_mode": {
    "name": "ipython",
    "version": 3
   },
   "file_extension": ".py",
   "mimetype": "text/x-python",
   "name": "python",
   "nbconvert_exporter": "python",
   "pygments_lexer": "ipython3",
   "version": "3.7.3"
  }
 },
 "nbformat": 4,
 "nbformat_minor": 4
}
