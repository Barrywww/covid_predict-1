{
 "cells": [
  {
   "cell_type": "code",
   "execution_count": 1,
   "metadata": {
    "pycharm": {
     "is_executing": false
    }
   },
   "outputs": [],
   "source": [
    "import os, sys\n",
    "import numpy as np\n",
    "import pandas as pd\n",
    "from sklearn.preprocessing import MinMaxScaler"
   ]
  },
  {
   "cell_type": "code",
   "execution_count": 3,
   "metadata": {
    "pycharm": {
     "is_executing": false,
     "name": "#%%\n"
    }
   },
   "outputs": [],
   "source": [
    "# convert time series data to supervised data\n",
    "def to_supervised(src_path, dst_path, index_y, n_in, n_out):\n",
    "    country_dict = walk(src_path)\n",
    "    for k, v in country_dict.items():\n",
    "        v = v.fillna(0)\n",
    "        values = v.values.astype(\"float64\")\n",
    "        df = generate_supervised_data(values, index_y, n_in, n_out)\n",
    "        df = df.drop(df.columns[[i for i in range(((n_in*values.shape[1])+1), df.shape[1])]], axis=1)\n",
    "        df.to_csv(dst_path + k + \"_supervised.csv\")\n",
    "    \n",
    "def generate_supervised_data(data, index_y, n_in=1, n_out=1, drop=True):\n",
    "    n_vars = data.shape[1]\n",
    "    df = pd.DataFrame(data)\n",
    "    cols = []\n",
    "    names = []\n",
    "    \n",
    "    # shift the data by the timestep\n",
    "    for i in range(n_in, 0, -1):\n",
    "        cols.append(df.shift(i))\n",
    "        names += [('var%d(t-%d)' % (j+1, i)) for j in range(n_vars)]\n",
    "    for i in range(0, n_out):\n",
    "        cols.append(df.shift(-i))\n",
    "        if i == 0:\n",
    "            names += [('var%d(t)' % (j+1)) for j in range(n_vars)]\n",
    "        else:\n",
    "            names += [('var%d(t+%d)' % (j+1, i)) for j in range(n_vars)]\n",
    "            \n",
    "    agg = pd.concat(cols, axis=1)\n",
    "    agg.columns = names\n",
    "    if drop:\n",
    "        agg = agg.dropna()\n",
    "    return agg\n",
    "    \n",
    "    \n",
    "def walk(path):\n",
    "    d = {}\n",
    "    idx = 0\n",
    "    for root, dir, files in os.walk(path):\n",
    "        if idx == 1:\n",
    "            break\n",
    "        for file in files[:173]:\n",
    "            d[file.split(\".\")[0]] = pd.read_csv(os.path.join(root, file), index_col=0)\n",
    "        idx += 1\n",
    "    return d\n",
    "\n",
    "out_path = \"./country_csv/supervised_1/\"\n",
    "if not os.path.exists(out_path):\n",
    "    os.mkdir(out_path)\n",
    "to_supervised(\"./country_csv/\", out_path, 0, 1, 1)\n"
   ]
  },
  {
   "cell_type": "code",
   "execution_count": null,
   "metadata": {},
   "outputs": [],
   "source": []
  },
  {
   "cell_type": "code",
   "execution_count": null,
   "metadata": {},
   "outputs": [],
   "source": []
  }
 ],
 "metadata": {
  "kernelspec": {
   "display_name": "PyCharm (Fall 2020)",
   "language": "python",
   "name": "pycharm-fa52a1c9"
  },
  "language_info": {
   "codemirror_mode": {
    "name": "ipython",
    "version": 3
   },
   "file_extension": ".py",
   "mimetype": "text/x-python",
   "name": "python",
   "nbconvert_exporter": "python",
   "pygments_lexer": "ipython3",
   "version": "3.7.3"
  },
  "pycharm": {
   "stem_cell": {
    "cell_type": "raw",
    "metadata": {
     "collapsed": false
    },
    "source": []
   }
  }
 },
 "nbformat": 4,
 "nbformat_minor": 1
}
